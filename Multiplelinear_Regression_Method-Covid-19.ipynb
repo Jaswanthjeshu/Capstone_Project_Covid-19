{
 "cells": [
  {
   "cell_type": "markdown",
   "metadata": {},
   "source": [
    "# Capstone Project Covid - 19"
   ]
  },
  {
   "cell_type": "markdown",
   "metadata": {},
   "source": [
    "## Business Problem"
   ]
  },
  {
   "cell_type": "markdown",
   "metadata": {},
   "source": [
    "As stated by WHO,COVID-19 is now a pandemic affecting many countries globally. Most people (about 80%) recover from the disease without needing hospital treatment. Around 1 out of every 5 people who gets COVID-19 becomes seriously ill and develops difficulty breathing. Intensive care is needed if someone is seriously ill and requires intensive treatment and close monitoring, or if they're having surgery and intensive care can help them recover. \n",
    "\n",
    "Hospitals are taking unprecedented action to increase critical care capacity to cope with the pandemic. Critical care beds are the sum of Intensive care beds, and Intermediate care beds (ICU and IMCU beds). Most people in an ICU (Intensive care unit) have problems with 1 or more organs. For example, they may be unable to breathe on their own. Critical care services rely on complex equipment such as mechanical ventilators that help patients breathe. \n",
    "\n",
    "It was reported that the United Kingdom had approximately 8,175 ventilators at the start of the Covid-19 outbreak. As ever, delivering sufficient capacity goes beyond physical infrastructure – such as having more beds and equipment. we will analyse Hospital admissions, beds occupied, discharges from Barts Health NHS Trust, London to predict the Mechanical Ventilation beds required for Covid-19 patients, which helps hospital management for better planning. \n",
    "\n",
    "Hospital Admissions & demand for Mechanical Ventilators could have been reduced if more tests are performed at an early stages of Pandemic, assuming people could have self isolated if tested Covid-19 Positive."
   ]
  },
  {
   "cell_type": "markdown",
   "metadata": {},
   "source": [
    "## Method Selection"
   ]
  },
  {
   "cell_type": "markdown",
   "metadata": {},
   "source": [
    "We will apply Multiple Linear Regression method to predict Mechanical Ventilation beds required for Covid-19 patients for the Hospital, Barts Health NHS Trust, London.\n",
    "\n",
    "Data is collected from https://www.england.nhs.uk/statistics/statistical-work-areas/covid-19-hospital-activity/\n",
    "We will consider data during period 27th April 2020  to 30th June 2020\n",
    "\n",
    "Input Variables:\n",
    "\n",
    "1.Admissions - Number of patients admitted with COVID-19\n",
    "2.Diagnoses - Total number of inpatients diagnosed with COVID-19 \n",
    "3.Total beds - occupied by confirmed COVID-19 patients\n",
    "4. Discharges - Total confirmed COVID-19 cases discharged from hospital (Last 24hrs)\n",
    "\n",
    "Target Variable:\n",
    "\n",
    "Mechanical Ventilation beds"
   ]
  },
  {
   "cell_type": "markdown",
   "metadata": {},
   "source": [
    "## Import Libraries"
   ]
  },
  {
   "cell_type": "code",
   "execution_count": 80,
   "metadata": {},
   "outputs": [],
   "source": [
    "import matplotlib.pyplot as plt\n",
    "import pandas as pd\n",
    "import pylab as pl\n",
    "import numpy as np\n",
    "%matplotlib inline"
   ]
  },
  {
   "cell_type": "markdown",
   "metadata": {},
   "source": [
    "# Hospital Data (Barts Health NHS Trust)\n",
    "### Transformed Data from Source : https://www.england.nhs.uk/statistics/statistical-work-areas/covid-19-hospital-activity/"
   ]
  },
  {
   "cell_type": "code",
   "execution_count": 81,
   "metadata": {},
   "outputs": [],
   "source": [
    "df=pd.read_excel(\"https://github.com/Jaswanthjeshu/Capstone_Project_Covid_19/blob/master/Barts_Health_NHS_Trust.xlsx?raw=true\")"
   ]
  },
  {
   "cell_type": "markdown",
   "metadata": {},
   "source": [
    "## First Five Rows"
   ]
  },
  {
   "cell_type": "code",
   "execution_count": 82,
   "metadata": {
    "scrolled": true
   },
   "outputs": [
    {
     "data": {
      "text/html": [
       "<div>\n",
       "<style scoped>\n",
       "    .dataframe tbody tr th:only-of-type {\n",
       "        vertical-align: middle;\n",
       "    }\n",
       "\n",
       "    .dataframe tbody tr th {\n",
       "        vertical-align: top;\n",
       "    }\n",
       "\n",
       "    .dataframe thead th {\n",
       "        text-align: right;\n",
       "    }\n",
       "</style>\n",
       "<table border=\"1\" class=\"dataframe\">\n",
       "  <thead>\n",
       "    <tr style=\"text-align: right;\">\n",
       "      <th></th>\n",
       "      <th>Date</th>\n",
       "      <th>Admissions</th>\n",
       "      <th>Diagnoses</th>\n",
       "      <th>Totalbedsoccupied</th>\n",
       "      <th>Discharges</th>\n",
       "      <th>MechanicalVentilationbeds</th>\n",
       "    </tr>\n",
       "  </thead>\n",
       "  <tbody>\n",
       "    <tr>\n",
       "      <td>0</td>\n",
       "      <td>2020-04-27</td>\n",
       "      <td>8</td>\n",
       "      <td>13</td>\n",
       "      <td>312</td>\n",
       "      <td>22</td>\n",
       "      <td>105</td>\n",
       "    </tr>\n",
       "    <tr>\n",
       "      <td>1</td>\n",
       "      <td>2020-04-28</td>\n",
       "      <td>12</td>\n",
       "      <td>6</td>\n",
       "      <td>291</td>\n",
       "      <td>35</td>\n",
       "      <td>108</td>\n",
       "    </tr>\n",
       "    <tr>\n",
       "      <td>2</td>\n",
       "      <td>2020-04-29</td>\n",
       "      <td>10</td>\n",
       "      <td>6</td>\n",
       "      <td>277</td>\n",
       "      <td>35</td>\n",
       "      <td>109</td>\n",
       "    </tr>\n",
       "    <tr>\n",
       "      <td>3</td>\n",
       "      <td>2020-04-30</td>\n",
       "      <td>14</td>\n",
       "      <td>8</td>\n",
       "      <td>259</td>\n",
       "      <td>37</td>\n",
       "      <td>105</td>\n",
       "    </tr>\n",
       "    <tr>\n",
       "      <td>4</td>\n",
       "      <td>2020-05-01</td>\n",
       "      <td>7</td>\n",
       "      <td>7</td>\n",
       "      <td>242</td>\n",
       "      <td>30</td>\n",
       "      <td>100</td>\n",
       "    </tr>\n",
       "  </tbody>\n",
       "</table>\n",
       "</div>"
      ],
      "text/plain": [
       "        Date  Admissions  Diagnoses  Totalbedsoccupied  Discharges  \\\n",
       "0 2020-04-27           8         13                312          22   \n",
       "1 2020-04-28          12          6                291          35   \n",
       "2 2020-04-29          10          6                277          35   \n",
       "3 2020-04-30          14          8                259          37   \n",
       "4 2020-05-01           7          7                242          30   \n",
       "\n",
       "   MechanicalVentilationbeds  \n",
       "0                        105  \n",
       "1                        108  \n",
       "2                        109  \n",
       "3                        105  \n",
       "4                        100  "
      ]
     },
     "execution_count": 82,
     "metadata": {},
     "output_type": "execute_result"
    }
   ],
   "source": [
    "df.head()"
   ]
  },
  {
   "cell_type": "code",
   "execution_count": 83,
   "metadata": {
    "scrolled": true
   },
   "outputs": [
    {
     "data": {
      "text/html": [
       "<div>\n",
       "<style scoped>\n",
       "    .dataframe tbody tr th:only-of-type {\n",
       "        vertical-align: middle;\n",
       "    }\n",
       "\n",
       "    .dataframe tbody tr th {\n",
       "        vertical-align: top;\n",
       "    }\n",
       "\n",
       "    .dataframe thead th {\n",
       "        text-align: right;\n",
       "    }\n",
       "</style>\n",
       "<table border=\"1\" class=\"dataframe\">\n",
       "  <thead>\n",
       "    <tr style=\"text-align: right;\">\n",
       "      <th></th>\n",
       "      <th>Totalbedsoccupied</th>\n",
       "      <th>Discharges</th>\n",
       "      <th>MechanicalVentilationbeds</th>\n",
       "    </tr>\n",
       "  </thead>\n",
       "  <tbody>\n",
       "    <tr>\n",
       "      <td>0</td>\n",
       "      <td>312</td>\n",
       "      <td>22</td>\n",
       "      <td>105</td>\n",
       "    </tr>\n",
       "    <tr>\n",
       "      <td>1</td>\n",
       "      <td>291</td>\n",
       "      <td>35</td>\n",
       "      <td>108</td>\n",
       "    </tr>\n",
       "    <tr>\n",
       "      <td>2</td>\n",
       "      <td>277</td>\n",
       "      <td>35</td>\n",
       "      <td>109</td>\n",
       "    </tr>\n",
       "    <tr>\n",
       "      <td>3</td>\n",
       "      <td>259</td>\n",
       "      <td>37</td>\n",
       "      <td>105</td>\n",
       "    </tr>\n",
       "    <tr>\n",
       "      <td>4</td>\n",
       "      <td>242</td>\n",
       "      <td>30</td>\n",
       "      <td>100</td>\n",
       "    </tr>\n",
       "  </tbody>\n",
       "</table>\n",
       "</div>"
      ],
      "text/plain": [
       "   Totalbedsoccupied  Discharges  MechanicalVentilationbeds\n",
       "0                312          22                        105\n",
       "1                291          35                        108\n",
       "2                277          35                        109\n",
       "3                259          37                        105\n",
       "4                242          30                        100"
      ]
     },
     "execution_count": 83,
     "metadata": {},
     "output_type": "execute_result"
    }
   ],
   "source": [
    "df_variables = df[['Totalbedsoccupied','Discharges','MechanicalVentilationbeds']]\n",
    "df_variables.head()"
   ]
  },
  {
   "cell_type": "code",
   "execution_count": 84,
   "metadata": {
    "scrolled": true
   },
   "outputs": [
    {
     "data": {
      "image/png": "[encoded data removed]",
      "text/plain": [
       "<Figure size 432x288 with 1 Axes>"
      ]
     },
     "metadata": {
      "needs_background": "light"
     },
     "output_type": "display_data"
    }
   ],
   "source": [
    "plt.scatter(df_variables.Totalbedsoccupied, df_variables.MechanicalVentilationbeds, color='blue')\n",
    "plt.xlabel(\"Totalbedsoccupied\")\n",
    "plt.ylabel(\"MechanicalVentilationbeds\")\n",
    "plt.show()"
   ]
  },
  {
   "cell_type": "code",
   "execution_count": 85,
   "metadata": {
    "scrolled": true
   },
   "outputs": [
    {
     "data": {
      "image/png": "[encoded data removed]",
      "text/plain": [
       "<Figure size 432x288 with 1 Axes>"
      ]
     },
     "metadata": {
      "needs_background": "light"
     },
     "output_type": "display_data"
    }
   ],
   "source": [
    "plt.scatter(df_variables.Discharges, df_variables.MechanicalVentilationbeds, color='blue')\n",
    "plt.xlabel(\"Discharges\")\n",
    "plt.ylabel(\"MechanicalVentilationbeds\")\n",
    "plt.show()"
   ]
  },
  {
   "cell_type": "markdown",
   "metadata": {},
   "source": [
    "## From the above result, we could see there is good correlation between Total beds & Discharges with our target variable, by applying these two variables regression gives the coefficients"
   ]
  },
  {
   "cell_type": "code",
   "execution_count": 86,
   "metadata": {},
   "outputs": [
    {
     "name": "stdout",
     "output_type": "stream",
     "text": [
      "Coefficients:  [[0.37713895 0.68413712]]\n"
     ]
    }
   ],
   "source": [
    "from sklearn import linear_model\n",
    "regr = linear_model.LinearRegression()\n",
    "x = np.asanyarray(df_variables[['Totalbedsoccupied','Discharges']])\n",
    "y = np.asanyarray(df_variables[['MechanicalVentilationbeds']])\n",
    "regr.fit (x, y)\n",
    "# The coefficients\n",
    "print ('Coefficients: ', regr.coef_)"
   ]
  },
  {
   "cell_type": "code",
   "execution_count": 87,
   "metadata": {
    "scrolled": true
   },
   "outputs": [
    {
     "data": {
      "text/plain": [
       "array([-25.17709102])"
      ]
     },
     "execution_count": 87,
     "metadata": {},
     "output_type": "execute_result"
    }
   ],
   "source": [
    "regr.intercept_"
   ]
  },
  {
   "cell_type": "markdown",
   "metadata": {},
   "source": [
    "### Target Variable(Mechanical Ventilation beds) = -25.17 + 0.38 * Total Beds + 0.68 * Discharges\n"
   ]
  },
  {
   "cell_type": "code",
   "execution_count": 88,
   "metadata": {},
   "outputs": [
    {
     "data": {
      "text/plain": [
       "98.41"
      ]
     },
     "execution_count": 88,
     "metadata": {},
     "output_type": "execute_result"
    }
   ],
   "source": [
    "-25.17 + (0.38 * 259) + (0.68 * 37) #Cheking values for 30th April"
   ]
  },
  {
   "cell_type": "markdown",
   "metadata": {},
   "source": [
    "## Train & Test"
   ]
  },
  {
   "cell_type": "code",
   "execution_count": 89,
   "metadata": {},
   "outputs": [],
   "source": [
    "msk = np.random.rand(len(df)) < 0.8\n",
    "train = df_variables[msk]\n",
    "test = df_variables[~msk]"
   ]
  },
  {
   "cell_type": "code",
   "execution_count": 90,
   "metadata": {},
   "outputs": [
    {
     "name": "stdout",
     "output_type": "stream",
     "text": [
      "Coefficients:  [[0.37189583 0.68176288]]\n"
     ]
    }
   ],
   "source": [
    "from sklearn import linear_model\n",
    "regr_new = linear_model.LinearRegression()\n",
    "x_new = np.asanyarray(train[['Totalbedsoccupied','Discharges']])\n",
    "y_new = np.asanyarray(train[['MechanicalVentilationbeds']])\n",
    "regr_new.fit (x_new, y_new)\n",
    "# The coefficients\n",
    "print ('Coefficients: ', regr_new.coef_)"
   ]
  },
  {
   "cell_type": "code",
   "execution_count": 91,
   "metadata": {
    "scrolled": true
   },
   "outputs": [
    {
     "data": {
      "text/plain": [
       "array([-24.3163752])"
      ]
     },
     "execution_count": 91,
     "metadata": {},
     "output_type": "execute_result"
    }
   ],
   "source": [
    "regr_new.intercept_"
   ]
  },
  {
   "cell_type": "code",
   "execution_count": 92,
   "metadata": {},
   "outputs": [
    {
     "name": "stdout",
     "output_type": "stream",
     "text": [
      "Residual sum of squares: 42.37\n",
      "Variance score: 0.96\n"
     ]
    }
   ],
   "source": [
    "y_hat= regr.predict(test[['Totalbedsoccupied','Discharges']])\n",
    "x_new = np.asanyarray(test[['Totalbedsoccupied','Discharges']])\n",
    "y_new = np.asanyarray(test[['MechanicalVentilationbeds']])\n",
    "print(\"Residual sum of squares: %.2f\"\n",
    "      % np.mean((y_hat - y_new)** 2 ))\n",
    "\n",
    "# Explained variance score: 1 is perfect prediction\n",
    "print('Variance score: %.2f' % regr_new.score(x_new, y_new))"
   ]
  },
  {
   "cell_type": "markdown",
   "metadata": {},
   "source": [
    "### Target Variable(Mechanical Ventilation beds) = -24.31 + 0.38 * Total Beds + 0.68 * Discharges"
   ]
  },
  {
   "cell_type": "code",
   "execution_count": 93,
   "metadata": {},
   "outputs": [
    {
     "data": {
      "text/plain": [
       "97.78999999999999"
      ]
     },
     "execution_count": 93,
     "metadata": {},
     "output_type": "execute_result"
    }
   ],
   "source": [
    "-24.31 + (0.38 * 259) + (0.64 * 37) #Cheking values for 30th April"
   ]
  }
 ],
 "metadata": {
  "kernelspec": {
   "display_name": "Python 3",
   "language": "python",
   "name": "python3"
  },
  "language_info": {
   "codemirror_mode": {
    "name": "ipython",
    "version": 3
   },
   "file_extension": ".py",
   "mimetype": "text/x-python",
   "name": "python",
   "nbconvert_exporter": "python",
   "pygments_lexer": "ipython3",
   "version": "3.7.4"
  }
 },
 "nbformat": 4,
 "nbformat_minor": 2
}
